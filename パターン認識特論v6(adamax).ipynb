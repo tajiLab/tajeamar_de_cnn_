{
 "cells": [
  {
   "cell_type": "code",
   "execution_count": 1,
   "metadata": {},
   "outputs": [
    {
     "name": "stderr",
     "output_type": "stream",
     "text": [
      "Using Theano backend.\n",
      "C:\\Users\\81801\\anaconda3\\envs\\py36\\lib\\site-packages\\tensorflow\\python\\framework\\dtypes.py:523: FutureWarning: Passing (type, 1) or '1type' as a synonym of type is deprecated; in a future version of numpy, it will be understood as (type, (1,)) / '(1,)type'.\n",
      "  _np_qint8 = np.dtype([(\"qint8\", np.int8, 1)])\n",
      "C:\\Users\\81801\\anaconda3\\envs\\py36\\lib\\site-packages\\tensorflow\\python\\framework\\dtypes.py:524: FutureWarning: Passing (type, 1) or '1type' as a synonym of type is deprecated; in a future version of numpy, it will be understood as (type, (1,)) / '(1,)type'.\n",
      "  _np_quint8 = np.dtype([(\"quint8\", np.uint8, 1)])\n",
      "C:\\Users\\81801\\anaconda3\\envs\\py36\\lib\\site-packages\\tensorflow\\python\\framework\\dtypes.py:525: FutureWarning: Passing (type, 1) or '1type' as a synonym of type is deprecated; in a future version of numpy, it will be understood as (type, (1,)) / '(1,)type'.\n",
      "  _np_qint16 = np.dtype([(\"qint16\", np.int16, 1)])\n",
      "C:\\Users\\81801\\anaconda3\\envs\\py36\\lib\\site-packages\\tensorflow\\python\\framework\\dtypes.py:526: FutureWarning: Passing (type, 1) or '1type' as a synonym of type is deprecated; in a future version of numpy, it will be understood as (type, (1,)) / '(1,)type'.\n",
      "  _np_quint16 = np.dtype([(\"quint16\", np.uint16, 1)])\n",
      "C:\\Users\\81801\\anaconda3\\envs\\py36\\lib\\site-packages\\tensorflow\\python\\framework\\dtypes.py:527: FutureWarning: Passing (type, 1) or '1type' as a synonym of type is deprecated; in a future version of numpy, it will be understood as (type, (1,)) / '(1,)type'.\n",
      "  _np_qint32 = np.dtype([(\"qint32\", np.int32, 1)])\n",
      "C:\\Users\\81801\\anaconda3\\envs\\py36\\lib\\site-packages\\tensorflow\\python\\framework\\dtypes.py:532: FutureWarning: Passing (type, 1) or '1type' as a synonym of type is deprecated; in a future version of numpy, it will be understood as (type, (1,)) / '(1,)type'.\n",
      "  np_resource = np.dtype([(\"resource\", np.ubyte, 1)])\n"
     ]
    }
   ],
   "source": [
    "#Kerasを動かすバックエンド\n",
    "import os\n",
    "os.environ['KERAS_BACKEND'] = 'theano'\n",
    "import keras as ks"
   ]
  },
  {
   "cell_type": "code",
   "execution_count": 2,
   "metadata": {},
   "outputs": [],
   "source": [
    "#Kerasの必要なコンポーネントをインポート\n",
    "from keras.models import Sequential\n",
    "from keras.layers import Dense, Dropout, Flatten, Conv2D, MaxPooling2D\n",
    "from keras.utils import np_utils"
   ]
  },
  {
   "cell_type": "code",
   "execution_count": 3,
   "metadata": {},
   "outputs": [],
   "source": [
    "#データを高速かつ効率的に使えるPandasをインポート\n",
    "import pandas as pd\n",
    "#数値計算を効率的に行うnumpyをインポート\n",
    "import numpy as np"
   ]
  },
  {
   "cell_type": "code",
   "execution_count": 4,
   "metadata": {},
   "outputs": [],
   "source": [
    "#グラフが簡単に描写できるMatplotlibをインポート\n",
    "import matplotlib\n",
    "import matplotlib.pyplot as plt"
   ]
  },
  {
   "cell_type": "code",
   "execution_count": 5,
   "metadata": {},
   "outputs": [],
   "source": [
    "#各モジュールをインポート\n",
    "import cv2\n",
    "import copy\n",
    "import os\n",
    "import glob"
   ]
  },
  {
   "cell_type": "code",
   "execution_count": 6,
   "metadata": {
    "scrolled": false
   },
   "outputs": [],
   "source": [
    "path='./data/gakusyuu'\n",
    "imgs=[]\n",
    "labels=[]\n",
    "f_=[0,0,0,0]\n",
    "dirs = os.listdir(path)\n",
    "dir_list = [f for f in dirs if os.path.isdir(os.path.join(path, f))]\n",
    "for label in dir_list:\n",
    "    file=glob.glob(path+\"/\"+label+\"/*\")\n",
    "    temp=copy.copy(f_)\n",
    "    temp[int(label)]=1\n",
    "    \n",
    "    for img_path in file:\n",
    "        img_path=img_path\n",
    "        img=cv2.imread(img_path,0)\n",
    "        img=img[:, :, np.newaxis]\n",
    "        imgs.append(img)\n",
    "        labels.append(temp)\n",
    "        #print(img_path)\n",
    "        #print(np.shape(img))\n",
    "        \n",
    "X_train=np.asarray(imgs)\n",
    "y_train=np.asarray(labels)"
   ]
  },
  {
   "cell_type": "code",
   "execution_count": 7,
   "metadata": {},
   "outputs": [
    {
     "data": {
      "image/png": "[encoded data removed]",
      "text/plain": [
       "<Figure size 432x288 with 1 Axes>"
      ]
     },
     "metadata": {
      "needs_background": "light"
     },
     "output_type": "display_data"
    }
   ],
   "source": [
    "%matplotlib inline \n",
    "plt.imshow(X_train[1946].reshape(40,40),cmap = \"gray\")\n",
    "plt.show()"
   ]
  },
  {
   "cell_type": "code",
   "execution_count": 8,
   "metadata": {},
   "outputs": [
    {
     "data": {
      "text/plain": [
       "array([1, 0, 0, 0])"
      ]
     },
     "execution_count": 8,
     "metadata": {},
     "output_type": "execute_result"
    }
   ],
   "source": [
    "y_train[1946]"
   ]
  },
  {
   "cell_type": "code",
   "execution_count": 9,
   "metadata": {},
   "outputs": [],
   "source": [
    "path='./data/test'\n",
    "imgs=[]\n",
    "labels=[]\n",
    "cnt=0\n",
    "f_=[0,0,0,0]\n",
    "file=glob.glob(path+\"/*\")\n",
    "for img_path in file:\n",
    "    temp=copy.copy(f_)\n",
    "    if cnt>3:\n",
    "        cnt-=4\n",
    "    temp[cnt]=1\n",
    "    cnt+=1\n",
    "    img_path=img_path\n",
    "    img=cv2.imread(img_path,0)\n",
    "    img=img[:, :, np.newaxis]\n",
    "    imgs.append(img)\n",
    "    labels.append(temp)\n",
    "    #print(img_path)\n",
    "    #print(np.shape(img))\n",
    "        \n",
    "X_test=np.asarray(imgs)\n",
    "y_test=np.asarray(labels)"
   ]
  },
  {
   "cell_type": "code",
   "execution_count": 10,
   "metadata": {},
   "outputs": [
    {
     "name": "stdout",
     "output_type": "stream",
     "text": [
      "(20000, 40, 40, 1)\n",
      "(20000, 4)\n"
     ]
    }
   ],
   "source": [
    "print(X_train.shape)\n",
    "print(y_train.shape)"
   ]
  },
  {
   "cell_type": "code",
   "execution_count": 11,
   "metadata": {},
   "outputs": [],
   "source": [
    "X_train = X_train.astype('float32')\n",
    "X_test = X_test.astype('float32')"
   ]
  },
  {
   "cell_type": "code",
   "execution_count": 12,
   "metadata": {},
   "outputs": [],
   "source": [
    "X_train /= 255\n",
    "X_test /= 255"
   ]
  },
  {
   "cell_type": "code",
   "execution_count": 13,
   "metadata": {},
   "outputs": [
    {
     "data": {
      "text/plain": [
       "(20000, 40, 40, 1)"
      ]
     },
     "execution_count": 13,
     "metadata": {},
     "output_type": "execute_result"
    }
   ],
   "source": [
    "np.shape(X_train)"
   ]
  },
  {
   "cell_type": "code",
   "execution_count": 14,
   "metadata": {},
   "outputs": [
    {
     "data": {
      "text/plain": [
       "(19080, 40, 40, 1)"
      ]
     },
     "execution_count": 14,
     "metadata": {},
     "output_type": "execute_result"
    }
   ],
   "source": [
    "np.shape(X_test)"
   ]
  },
  {
   "cell_type": "code",
   "execution_count": 15,
   "metadata": {},
   "outputs": [
    {
     "data": {
      "text/plain": [
       "(20000, 4)"
      ]
     },
     "execution_count": 15,
     "metadata": {},
     "output_type": "execute_result"
    }
   ],
   "source": [
    "np.shape(y_train)"
   ]
  },
  {
   "cell_type": "code",
   "execution_count": 16,
   "metadata": {},
   "outputs": [
    {
     "data": {
      "text/plain": [
       "(19080, 4)"
      ]
     },
     "execution_count": 16,
     "metadata": {},
     "output_type": "execute_result"
    }
   ],
   "source": [
    "np.shape(y_test)"
   ]
  },
  {
   "cell_type": "code",
   "execution_count": 17,
   "metadata": {},
   "outputs": [],
   "source": [
    "# モデルの宣言\n",
    "model = Sequential()"
   ]
  },
  {
   "cell_type": "code",
   "execution_count": 18,
   "metadata": {},
   "outputs": [
    {
     "name": "stderr",
     "output_type": "stream",
     "text": [
      "C:\\Users\\81801\\anaconda3\\envs\\py36\\lib\\site-packages\\ipykernel_launcher.py:5: UserWarning: Update your `Conv2D` call to the Keras 2 API: `Conv2D(32, (3, 3), activation=\"relu\", input_shape=(40, 40, 1...)`\n",
      "  \"\"\"\n"
     ]
    }
   ],
   "source": [
    "# 先に作成したmodelへレイヤーを追加\n",
    "import theano.ifelse\n",
    "model.add(Conv2D(32, 3, 3,\n",
    "                 activation='relu',\n",
    "                 input_shape=(40,40,1)))\n",
    "model.add(MaxPooling2D(pool_size=(2, 2)))\n",
    "model.add(Dropout(0.25))\n",
    "model.add(Flatten())\n",
    "model.add(Dense(128, activation='relu'))\n",
    "model.add(Dense(4, activation='softmax'))"
   ]
  },
  {
   "cell_type": "code",
   "execution_count": 19,
   "metadata": {},
   "outputs": [],
   "source": [
    "# Learnig Processの設定\n",
    "model.compile(loss='categorical_crossentropy',\n",
    "optimizer='adamax',\n",
    "metrics=['accuracy'])"
   ]
  },
  {
   "cell_type": "code",
   "execution_count": 20,
   "metadata": {
    "scrolled": false
   },
   "outputs": [
    {
     "name": "stderr",
     "output_type": "stream",
     "text": [
      "C:\\Users\\81801\\anaconda3\\envs\\py36\\lib\\site-packages\\ipykernel_launcher.py:2: UserWarning: The `nb_epoch` argument in `fit` has been renamed `epochs`.\n",
      "  \n"
     ]
    },
    {
     "name": "stdout",
     "output_type": "stream",
     "text": [
      "Train on 20000 samples, validate on 20000 samples\n",
      "Epoch 1/20\n",
      "20000/20000 [==============================] - 53s 3ms/step - loss: 0.1293 - accuracy: 0.9575 - val_loss: 0.0524 - val_accuracy: 0.9850\n",
      "Epoch 2/20\n",
      "20000/20000 [==============================] - 54s 3ms/step - loss: 0.0366 - accuracy: 0.9898 - val_loss: 0.0161 - val_accuracy: 0.9967\n",
      "Epoch 3/20\n",
      "20000/20000 [==============================] - 53s 3ms/step - loss: 0.0206 - accuracy: 0.9943 - val_loss: 0.0153 - val_accuracy: 0.9952\n",
      "Epoch 4/20\n",
      "20000/20000 [==============================] - 53s 3ms/step - loss: 0.0117 - accuracy: 0.9971 - val_loss: 0.0054 - val_accuracy: 0.9990\n",
      "Epoch 5/20\n",
      "20000/20000 [==============================] - 54s 3ms/step - loss: 0.0084 - accuracy: 0.9979 - val_loss: 0.0031 - val_accuracy: 0.9995\n",
      "Epoch 6/20\n",
      "20000/20000 [==============================] - 54s 3ms/step - loss: 0.0052 - accuracy: 0.9989 - val_loss: 0.0023 - val_accuracy: 0.9998\n",
      "Epoch 7/20\n",
      "20000/20000 [==============================] - 55s 3ms/step - loss: 0.0046 - accuracy: 0.9987 - val_loss: 0.0017 - val_accuracy: 0.9998\n",
      "Epoch 8/20\n",
      "20000/20000 [==============================] - 54s 3ms/step - loss: 0.0036 - accuracy: 0.9990 - val_loss: 0.0018 - val_accuracy: 0.9995\n",
      "Epoch 9/20\n",
      "20000/20000 [==============================] - 58s 3ms/step - loss: 0.0018 - accuracy: 0.9997 - val_loss: 6.0358e-04 - val_accuracy: 1.0000\n",
      "Epoch 10/20\n",
      "20000/20000 [==============================] - 58s 3ms/step - loss: 0.0016 - accuracy: 0.9997 - val_loss: 5.4169e-04 - val_accuracy: 1.0000\n",
      "Epoch 11/20\n",
      "20000/20000 [==============================] - 57s 3ms/step - loss: 0.0011 - accuracy: 0.9998 - val_loss: 3.4587e-04 - val_accuracy: 1.0000\n",
      "Epoch 12/20\n",
      "20000/20000 [==============================] - 66s 3ms/step - loss: 6.3034e-04 - accuracy: 1.0000 - val_loss: 1.6698e-04 - val_accuracy: 1.0000\n",
      "Epoch 13/20\n",
      "20000/20000 [==============================] - 58s 3ms/step - loss: 8.9854e-04 - accuracy: 0.9998 - val_loss: 3.8509e-04 - val_accuracy: 1.0000\n",
      "Epoch 14/20\n",
      "20000/20000 [==============================] - 62s 3ms/step - loss: 6.3349e-04 - accuracy: 0.9998 - val_loss: 1.0644e-04 - val_accuracy: 1.0000\n",
      "Epoch 15/20\n",
      "20000/20000 [==============================] - 57s 3ms/step - loss: 4.4599e-04 - accuracy: 0.9999 - val_loss: 1.1015e-04 - val_accuracy: 1.0000\n",
      "Epoch 16/20\n",
      "20000/20000 [==============================] - 60s 3ms/step - loss: 3.1158e-04 - accuracy: 1.0000 - val_loss: 6.6903e-05 - val_accuracy: 1.0000\n",
      "Epoch 17/20\n",
      "20000/20000 [==============================] - 57s 3ms/step - loss: 3.6090e-04 - accuracy: 0.9999 - val_loss: 1.2471e-04 - val_accuracy: 1.0000\n",
      "Epoch 18/20\n",
      "20000/20000 [==============================] - 57s 3ms/step - loss: 3.3084e-04 - accuracy: 1.0000 - val_loss: 1.0428e-04 - val_accuracy: 1.0000\n",
      "Epoch 19/20\n",
      "20000/20000 [==============================] - 57s 3ms/step - loss: 2.6071e-04 - accuracy: 0.9999 - val_loss: 3.9303e-05 - val_accuracy: 1.0000\n",
      "Epoch 20/20\n",
      "20000/20000 [==============================] - 59s 3ms/step - loss: 1.2350e-04 - accuracy: 1.0000 - val_loss: 5.2334e-05 - val_accuracy: 1.0000\n"
     ]
    }
   ],
   "source": [
    "# モデルの訓練（エポック２０）\n",
    "history=model.fit(X_train, y_train, nb_epoch=20, validation_data = (X_train, y_train))"
   ]
  },
  {
   "cell_type": "code",
   "execution_count": 21,
   "metadata": {
    "scrolled": true
   },
   "outputs": [
    {
     "name": "stdout",
     "output_type": "stream",
     "text": [
      "19080/19080 [==============================] - 14s 738us/step\n",
      "[0.026037156008579202, 0.9946016669273376]\n"
     ]
    }
   ],
   "source": [
    "# テストデータを使ってモデルの評価\n",
    "loss_and_metrics = model.evaluate(X_test, y_test, batch_size=128)\n",
    "print(loss_and_metrics)"
   ]
  },
  {
   "cell_type": "code",
   "execution_count": 22,
   "metadata": {},
   "outputs": [],
   "source": [
    "#モデルの保存\n",
    "result_dir='./data/result_adamax'\n",
    "if not os.path.exists(result_dir):\n",
    "    os.mkdir(result_dir)\n",
    "model.save_weights(os.path.join(result_dir,'weight.h5'))\n",
    "model.save(os.path.join(result_dir,'model.h5'))"
   ]
  },
  {
   "cell_type": "code",
   "execution_count": 23,
   "metadata": {},
   "outputs": [
    {
     "name": "stdout",
     "output_type": "stream",
     "text": [
      "[0, array(0.95755, dtype=float32), array(0.9898, dtype=float32), array(0.9943, dtype=float32), array(0.9971, dtype=float32), array(0.9979, dtype=float32), array(0.9989, dtype=float32), array(0.99865, dtype=float32), array(0.999, dtype=float32), array(0.9997, dtype=float32), array(0.9997, dtype=float32), array(0.9998, dtype=float32), array(1., dtype=float32), array(0.99975, dtype=float32), array(0.99985, dtype=float32), array(0.99995, dtype=float32), array(1., dtype=float32), array(0.9999, dtype=float32), array(1., dtype=float32), array(0.99995, dtype=float32), array(1., dtype=float32)]\n",
      "[0, 0.9850000143051147, 0.996749997138977, 0.9951500296592712, 0.9990000128746033, 0.9995499849319458, 0.9998000264167786, 0.9998000264167786, 0.9994999766349792, 1.0, 1.0, 1.0, 1.0, 1.0, 1.0, 1.0, 1.0, 1.0, 1.0, 1.0, 1.0]\n"
     ]
    }
   ],
   "source": [
    "#データ抽出 (正解率)\n",
    "acc=copy.copy(history.history[\"accuracy\"])\n",
    "acc.insert(0,0)\n",
    "val_acc=copy.copy(history.history[\"val_accuracy\"])\n",
    "val_acc.insert(0,0)\n",
    "print(acc)\n",
    "print(val_acc)"
   ]
  },
  {
   "cell_type": "code",
   "execution_count": 24,
   "metadata": {},
   "outputs": [
    {
     "data": {
      "image/png": "[encoded data removed]",
      "text/plain": [
       "<Figure size 432x288 with 1 Axes>"
      ]
     },
     "metadata": {
      "needs_background": "light"
     },
     "output_type": "display_data"
    }
   ],
   "source": [
    "# 学習結果の描写 (正解率)\n",
    "import matplotlib.pyplot as plt\n",
    "import copy\n",
    "#acc,val_accのプロット\n",
    "plt.plot(acc, lw=0.5,label=\"acc\", ls=\"-\", marker=\"o\")\n",
    "plt.plot(val_acc,lw=0.5, label=\"val_acc\", ls=\"-\", marker=\"x\")\n",
    "plt.ylabel(\"accuracy\")\n",
    "plt.xlabel(\"epoch\")\n",
    "plt.title(\"adamax\")\n",
    "plt.legend(loc=\"best\")\n",
    "#学習曲線の保存\n",
    "plt.savefig(result_dir+'/adamax_acc.png')\n",
    "plt.show()"
   ]
  },
  {
   "cell_type": "code",
   "execution_count": 25,
   "metadata": {},
   "outputs": [
    {
     "name": "stdout",
     "output_type": "stream",
     "text": [
      "[0, 0.12925251682400704, 0.036624553866079074, 0.020638926592143253, 0.011661788863292895, 0.008438462751894258, 0.005223253361240495, 0.004572304260570672, 0.0035510822749747605, 0.0017911273875681217, 0.0015742856643279084, 0.001130485360457351, 0.0006303373881764855, 0.000898535097151398, 0.000633486972918945, 0.00044598938924591495, 0.0003115822618061884, 0.00036089781484197373, 0.00033083676809651477, 0.00026071441945171045, 0.00012350228188540767]\n",
      "[0, 0.0524160726480186, 0.016136818911205046, 0.015333829228492687, 0.00544746496423013, 0.003106989064424124, 0.0022713771467811968, 0.0017187567557799184, 0.0018151758393181807, 0.0006035789412254189, 0.0005416871486625723, 0.0003458683411143966, 0.0001669750471535508, 0.0003850857678451348, 0.00010643864327250866, 0.00011015153775738327, 6.690333615983946e-05, 0.00012471236526694155, 0.00010428137693656936, 3.930330949515337e-05, 5.233412758800568e-05]\n"
     ]
    }
   ],
   "source": [
    "#データ抽出 (損失)\n",
    "loss=copy.copy(history.history[\"loss\"])\n",
    "loss.insert(0,0)\n",
    "val_loss=copy.copy(history.history[\"val_loss\"])\n",
    "val_loss.insert(0,0)\n",
    "print(loss)\n",
    "print(val_loss)"
   ]
  },
  {
   "cell_type": "code",
   "execution_count": 26,
   "metadata": {},
   "outputs": [
    {
     "data": {
      "image/png": "[encoded data removed]",
      "text/plain": [
       "<Figure size 432x288 with 1 Axes>"
      ]
     },
     "metadata": {
      "needs_background": "light"
     },
     "output_type": "display_data"
    }
   ],
   "source": [
    "# 学習結果の描写 (損失)\n",
    "import matplotlib.pyplot as plt\n",
    "import copy\n",
    "#loss,val_lossのプロット\n",
    "plt.plot(loss, lw=0.5,label=\"loss\", ls=\"-\", marker=\"o\")\n",
    "plt.plot(val_loss,lw=0.5, label=\"val_loss\", ls=\"-\", marker=\"x\")\n",
    "plt.ylabel(\"loss\")\n",
    "plt.xlabel(\"epoch\")\n",
    "plt.title(\"adamax\")\n",
    "plt.legend(loc=\"best\")\n",
    "#学習曲線の保存\n",
    "plt.savefig(result_dir+'/adamax_loss.png')\n",
    "plt.show()"
   ]
  },
  {
   "cell_type": "code",
   "execution_count": 27,
   "metadata": {},
   "outputs": [
    {
     "data": {
      "text/html": [
       "<div>\n",
       "<style scoped>\n",
       "    .dataframe tbody tr th:only-of-type {\n",
       "        vertical-align: middle;\n",
       "    }\n",
       "\n",
       "    .dataframe tbody tr th {\n",
       "        vertical-align: top;\n",
       "    }\n",
       "\n",
       "    .dataframe thead th {\n",
       "        text-align: right;\n",
       "    }\n",
       "</style>\n",
       "<table border=\"1\" class=\"dataframe\">\n",
       "  <thead>\n",
       "    <tr style=\"text-align: right;\">\n",
       "      <th></th>\n",
       "      <th>Actual</th>\n",
       "      <th>Predictions</th>\n",
       "    </tr>\n",
       "  </thead>\n",
       "  <tbody>\n",
       "    <tr>\n",
       "      <th>1</th>\n",
       "      <td>[0, 1, 0, 0]</td>\n",
       "      <td>1</td>\n",
       "    </tr>\n",
       "    <tr>\n",
       "      <th>2</th>\n",
       "      <td>[0, 0, 1, 0]</td>\n",
       "      <td>2</td>\n",
       "    </tr>\n",
       "    <tr>\n",
       "      <th>3</th>\n",
       "      <td>[0, 0, 0, 1]</td>\n",
       "      <td>3</td>\n",
       "    </tr>\n",
       "    <tr>\n",
       "      <th>4</th>\n",
       "      <td>[1, 0, 0, 0]</td>\n",
       "      <td>0</td>\n",
       "    </tr>\n",
       "    <tr>\n",
       "      <th>5</th>\n",
       "      <td>[0, 1, 0, 0]</td>\n",
       "      <td>1</td>\n",
       "    </tr>\n",
       "    <tr>\n",
       "      <th>6</th>\n",
       "      <td>[0, 0, 1, 0]</td>\n",
       "      <td>2</td>\n",
       "    </tr>\n",
       "    <tr>\n",
       "      <th>7</th>\n",
       "      <td>[0, 0, 0, 1]</td>\n",
       "      <td>3</td>\n",
       "    </tr>\n",
       "    <tr>\n",
       "      <th>8</th>\n",
       "      <td>[1, 0, 0, 0]</td>\n",
       "      <td>0</td>\n",
       "    </tr>\n",
       "    <tr>\n",
       "      <th>9</th>\n",
       "      <td>[0, 1, 0, 0]</td>\n",
       "      <td>1</td>\n",
       "    </tr>\n",
       "  </tbody>\n",
       "</table>\n",
       "</div>"
      ],
      "text/plain": [
       "         Actual  Predictions\n",
       "1  [0, 1, 0, 0]            1\n",
       "2  [0, 0, 1, 0]            2\n",
       "3  [0, 0, 0, 1]            3\n",
       "4  [1, 0, 0, 0]            0\n",
       "5  [0, 1, 0, 0]            1\n",
       "6  [0, 0, 1, 0]            2\n",
       "7  [0, 0, 0, 1]            3\n",
       "8  [1, 0, 0, 0]            0\n",
       "9  [0, 1, 0, 0]            1"
      ]
     },
     "execution_count": 27,
     "metadata": {},
     "output_type": "execute_result"
    }
   ],
   "source": [
    "# X_testを使って予測を行う\n",
    "predictions = model.predict_classes(X_test)\n",
    "x = list(predictions)\n",
    "y = list(y_test)\n",
    "results = pd.DataFrame({'Actual': y, 'Predictions': x})\n",
    "results[1:10]"
   ]
  },
  {
   "cell_type": "code",
   "execution_count": 28,
   "metadata": {},
   "outputs": [
    {
     "name": "stdout",
     "output_type": "stream",
     "text": [
      "Model: \"sequential_1\"\n",
      "_________________________________________________________________\n",
      "Layer (type)                 Output Shape              Param #   \n",
      "=================================================================\n",
      "conv2d_1 (Conv2D)            (None, 38, 38, 32)        320       \n",
      "_________________________________________________________________\n",
      "max_pooling2d_1 (MaxPooling2 (None, 19, 19, 32)        0         \n",
      "_________________________________________________________________\n",
      "dropout_1 (Dropout)          (None, 19, 19, 32)        0         \n",
      "_________________________________________________________________\n",
      "flatten_1 (Flatten)          (None, 11552)             0         \n",
      "_________________________________________________________________\n",
      "dense_1 (Dense)              (None, 128)               1478784   \n",
      "_________________________________________________________________\n",
      "dense_2 (Dense)              (None, 4)                 516       \n",
      "=================================================================\n",
      "Total params: 1,479,620\n",
      "Trainable params: 1,479,620\n",
      "Non-trainable params: 0\n",
      "_________________________________________________________________\n"
     ]
    }
   ],
   "source": [
    "#構築モデルの確認\n",
    "model.summary()"
   ]
  }
 ],
 "metadata": {
  "kernelspec": {
   "display_name": "Python 3",
   "language": "python",
   "name": "python3"
  },
  "language_info": {
   "codemirror_mode": {
    "name": "ipython",
    "version": 3
   },
   "file_extension": ".py",
   "mimetype": "text/x-python",
   "name": "python",
   "nbconvert_exporter": "python",
   "pygments_lexer": "ipython3",
   "version": "3.6.12"
  }
 },
 "nbformat": 4,
 "nbformat_minor": 2
}
